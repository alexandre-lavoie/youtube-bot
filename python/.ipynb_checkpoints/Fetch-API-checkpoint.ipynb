{
 "cells": [
  {
   "cell_type": "markdown",
   "metadata": {},
   "source": [
    "# Fetch-API.ipynb\n",
    "## Fetches YouTube Most Viewed Videos in a Region and Saves to a CSV.\n",
    "### ! Don't forget to put your YouTube Data API Key in API_KEY !"
   ]
  },
  {
   "cell_type": "markdown",
   "metadata": {},
   "source": [
    "### Libraries"
   ]
  },
  {
   "cell_type": "code",
   "execution_count": 1,
   "metadata": {},
   "outputs": [],
   "source": [
    "import urllib.request, json # To fetch YouTube Data Json.\n",
    "import pandas as pd # To make the CSV file."
   ]
  },
  {
   "cell_type": "markdown",
   "metadata": {},
   "source": [
    "### Global Variables"
   ]
  },
  {
   "cell_type": "code",
   "execution_count": 8,
   "metadata": {},
   "outputs": [],
   "source": [
    "NUMBER_OF_VIDEOS_PER_PAGE = \"50\" # Number of videos per page.\n",
    "NUMBER_OF_PAGES = 1 # Number of pages with NUMBER_OF_VIDEOS_PER_PAGE. (Over than 8 usually bugs the YouTube API)\n",
    "REGION = \"CA\" # Region to get Most View Videos.\n",
    "API_KEY = \"\" # Enter YOUR API Key Here.\n",
    "EXPORT_PATH = r'C:\\Youtube\\CA_viewCount.csv' # Path to save CSV file.\n",
    "NEXT_PAGE = \"\" #Provide Next Page Token to Restart From Page."
   ]
  },
  {
   "cell_type": "markdown",
   "metadata": {},
   "source": [
    "###  ! Do not run more than once if you want to keep old JSON requests !"
   ]
  },
  {
   "cell_type": "code",
   "execution_count": 9,
   "metadata": {},
   "outputs": [],
   "source": [
    "data = [] # Contains JSON requests."
   ]
  },
  {
   "cell_type": "markdown",
   "metadata": {},
   "source": [
    "### Fetches Videos using YouTube Data API (Run this multiple times to get many pages)"
   ]
  },
  {
   "cell_type": "code",
   "execution_count": 29,
   "metadata": {},
   "outputs": [
    {
     "ename": "KeyError",
     "evalue": "'nextPageToken'",
     "output_type": "error",
     "traceback": [
      "\u001b[1;31m---------------------------------------------------------------------------\u001b[0m",
      "\u001b[1;31mKeyError\u001b[0m                                  Traceback (most recent call last)",
      "\u001b[1;32m<ipython-input-29-eba1fcb0e05b>\u001b[0m in \u001b[0;36m<module>\u001b[1;34m\u001b[0m\n\u001b[0;32m     10\u001b[0m         \u001b[1;32mwith\u001b[0m \u001b[0murllib\u001b[0m\u001b[1;33m.\u001b[0m\u001b[0mrequest\u001b[0m\u001b[1;33m.\u001b[0m\u001b[0murlopen\u001b[0m\u001b[1;33m(\u001b[0m\u001b[1;34m\"https://www.googleapis.com/youtube/v3/search?part=snippet&order=viewCount&type=video&pageToken=\"\u001b[0m \u001b[1;33m+\u001b[0m \u001b[0mdata\u001b[0m\u001b[1;33m[\u001b[0m\u001b[1;33m-\u001b[0m\u001b[1;36m1\u001b[0m\u001b[1;33m]\u001b[0m\u001b[1;33m[\u001b[0m\u001b[1;34m\"nextPageToken\"\u001b[0m\u001b[1;33m]\u001b[0m \u001b[1;33m+\u001b[0m \u001b[1;34m\"&chart=mostPopular&regionCode=\"\u001b[0m \u001b[1;33m+\u001b[0m \u001b[0mREGION\u001b[0m \u001b[1;33m+\u001b[0m \u001b[1;34m\"&maxResults=\"\u001b[0m \u001b[1;33m+\u001b[0m \u001b[0mNUMBER_OF_VIDEOS_PER_PAGE\u001b[0m \u001b[1;33m+\u001b[0m \u001b[1;34m\"&key=\"\u001b[0m \u001b[1;33m+\u001b[0m \u001b[0mAPI_KEY\u001b[0m\u001b[1;33m)\u001b[0m \u001b[1;32mas\u001b[0m \u001b[0murl\u001b[0m\u001b[1;33m:\u001b[0m\u001b[1;33m\u001b[0m\u001b[1;33m\u001b[0m\u001b[0m\n\u001b[0;32m     11\u001b[0m             \u001b[0mdata\u001b[0m\u001b[1;33m.\u001b[0m\u001b[0mappend\u001b[0m\u001b[1;33m(\u001b[0m\u001b[0mjson\u001b[0m\u001b[1;33m.\u001b[0m\u001b[0mloads\u001b[0m\u001b[1;33m(\u001b[0m\u001b[0murl\u001b[0m\u001b[1;33m.\u001b[0m\u001b[0mread\u001b[0m\u001b[1;33m(\u001b[0m\u001b[1;33m)\u001b[0m\u001b[1;33m.\u001b[0m\u001b[0mdecode\u001b[0m\u001b[1;33m(\u001b[0m\u001b[1;33m)\u001b[0m\u001b[1;33m)\u001b[0m\u001b[1;33m)\u001b[0m\u001b[1;33m\u001b[0m\u001b[1;33m\u001b[0m\u001b[0m\n\u001b[1;32m---> 12\u001b[1;33m     \u001b[0mprint\u001b[0m\u001b[1;33m(\u001b[0m\u001b[0mdata\u001b[0m\u001b[1;33m[\u001b[0m\u001b[1;33m-\u001b[0m\u001b[1;36m1\u001b[0m\u001b[1;33m]\u001b[0m\u001b[1;33m[\u001b[0m\u001b[1;34m\"nextPageToken\"\u001b[0m\u001b[1;33m]\u001b[0m\u001b[1;33m)\u001b[0m\u001b[1;33m\u001b[0m\u001b[1;33m\u001b[0m\u001b[0m\n\u001b[0m",
      "\u001b[1;31mKeyError\u001b[0m: 'nextPageToken'"
     ]
    }
   ],
   "source": [
    "for i in range(NUMBER_OF_PAGES):\n",
    "    if not data:\n",
    "        if NEXT_PAGE == \"\":\n",
    "            with urllib.request.urlopen(\"https://www.googleapis.com/youtube/v3/search?part=snippet&order=viewCount&type=video&regionCode=\" + REGION + \"&maxResults=\" + NUMBER_OF_VIDEOS_PER_PAGE + \"&key=\" + API_KEY) as url:\n",
    "                data.append(json.loads(url.read().decode()))\n",
    "        else:\n",
    "            with urllib.request.urlopen(\"https://www.googleapis.com/youtube/v3/search?part=snippet&order=viewCount&type=video&pageToken=\" + NEXT_PAGE + \"regionCode=\" + REGION + \"&maxResults=\" + NUMBER_OF_VIDEOS_PER_PAGE + \"&key=\" + API_KEY) as url:\n",
    "                data.append(json.loads(url.read().decode()))\n",
    "    else:\n",
    "        with urllib.request.urlopen(\"https://www.googleapis.com/youtube/v3/search?part=snippet&order=viewCount&type=video&pageToken=\" + data[-1][\"nextPageToken\"] + \"&chart=mostPopular&regionCode=\" + REGION + \"&maxResults=\" + NUMBER_OF_VIDEOS_PER_PAGE + \"&key=\" + API_KEY) as url:\n",
    "            data.append(json.loads(url.read().decode()))\n",
    "    print(data[-1][\"nextPageToken\"])"
   ]
  },
  {
   "cell_type": "markdown",
   "metadata": {},
   "source": [
    "### Cleans up the JSON Data and Make a Pandas DataFrame"
   ]
  },
  {
   "cell_type": "code",
   "execution_count": 43,
   "metadata": {},
   "outputs": [],
   "source": [
    "video_dictionary = {'id':[], 'title': [], 'description': [], 'thumbnails': []}\n",
    "\n",
    "for pages in data[:-11]:\n",
    "    for video in pages[\"items\"]:\n",
    "        video_dictionary[\"id\"].append(video[\"id\"][\"videoId\"])\n",
    "        video_dictionary[\"title\"].append(video[\"snippet\"][\"title\"])\n",
    "        video_dictionary[\"thumbnails\"].append(video[\"snippet\"][\"thumbnails\"])\n",
    "        video_dictionary[\"description\"].append(video[\"snippet\"][\"description\"])\n",
    "        \n",
    "video_database = pd.DataFrame(video_dictionary)"
   ]
  },
  {
   "cell_type": "markdown",
   "metadata": {},
   "source": [
    "### Write Pandas DataFrame to CSV File"
   ]
  },
  {
   "cell_type": "code",
   "execution_count": 44,
   "metadata": {},
   "outputs": [],
   "source": [
    "video_database.to_csv(EXPORT_PATH, index = None, header=True)"
   ]
  },
  {
   "cell_type": "code",
   "execution_count": null,
   "metadata": {},
   "outputs": [],
   "source": []
  }
 ],
 "metadata": {
  "kernelspec": {
   "display_name": "Python 3",
   "language": "python",
   "name": "python3"
  },
  "language_info": {
   "codemirror_mode": {
    "name": "ipython",
    "version": 3
   },
   "file_extension": ".py",
   "mimetype": "text/x-python",
   "name": "python",
   "nbconvert_exporter": "python",
   "pygments_lexer": "ipython3",
   "version": "3.6.8"
  }
 },
 "nbformat": 4,
 "nbformat_minor": 2
}
