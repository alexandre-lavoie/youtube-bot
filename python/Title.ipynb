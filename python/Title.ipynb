{
 "cells": [
  {
   "cell_type": "code",
   "execution_count": 1,
   "metadata": {},
   "outputs": [],
   "source": [
    "# LSTM CODE BY https://machinelearningmastery.com/text-generation-lstm-recurrent-neural-networks-python-keras/"
   ]
  },
  {
   "cell_type": "code",
   "execution_count": 1,
   "metadata": {},
   "outputs": [],
   "source": [
    "import pandas as pd\n",
    "import numpy as np\n",
    "from tensorflow.keras.models import Model, Sequential\n",
    "from tensorflow.keras.layers import Dense, Dropout, CuDNNLSTM"
   ]
  },
  {
   "cell_type": "code",
   "execution_count": 19,
   "metadata": {},
   "outputs": [],
   "source": [
    "FILE_LOCATION = \"https://raw.githubusercontent.com/alexandre-lavoie/youtube-bot/master/data/US_viewCount.csv\"\n",
    "MIN_TITLE_LENGTH = 11\n",
    "NUMBER_OF_TITLES = 10\n",
    "EPOCHS = 20\n",
    "BATCH_SIZE = 128"
   ]
  },
  {
   "cell_type": "code",
   "execution_count": 3,
   "metadata": {},
   "outputs": [],
   "source": [
    "video_database = pd.read_csv(FILE_LOCATION)"
   ]
  },
  {
   "cell_type": "code",
   "execution_count": 4,
   "metadata": {},
   "outputs": [],
   "source": [
    "cleanup_database = video_database.replace('[^\\x00-\\x7F]+','',regex=True)"
   ]
  },
  {
   "cell_type": "code",
   "execution_count": 5,
   "metadata": {},
   "outputs": [],
   "source": [
    "chars = [chr(i) for i in range(ord('!'), ord('Z')+1)]\n",
    "chars.extend(['|', ' ', '[', ']', '_'])\n",
    "char_to_int = dict((c, i) for i, c in enumerate(chars))\n",
    "int_to_char = dict((i, c) for i, c in enumerate(chars))\n",
    "n_vocabs = len(chars)"
   ]
  },
  {
   "cell_type": "code",
   "execution_count": 6,
   "metadata": {},
   "outputs": [],
   "source": [
    "title_int = []\n",
    "for title in cleanup_database[\"title\"]:\n",
    "    title_int.append ([char_to_int[letter] for letter in title.upper()])"
   ]
  },
  {
   "cell_type": "code",
   "execution_count": 7,
   "metadata": {
    "scrolled": false
   },
   "outputs": [],
   "source": [
    "dataX = []\n",
    "dataY = []\n",
    "\n",
    "for title in title_int:\n",
    "    for i in range(0, len(title)-MIN_TITLE_LENGTH):\n",
    "        dataX.append(title[i:(i+MIN_TITLE_LENGTH)])\n",
    "        dataY.append(title[i+MIN_TITLE_LENGTH])\n",
    "        \n",
    "n_patterns = len(dataX)"
   ]
  },
  {
   "cell_type": "code",
   "execution_count": 42,
   "metadata": {},
   "outputs": [
    {
     "name": "stdout",
     "output_type": "stream",
     "text": [
      "Vocab Length: 63\n",
      "Pattern Length: 11\n",
      "Number of patterns: 93152\n"
     ]
    }
   ],
   "source": [
    "print(\"Vocab Length: \" + str(n_vocabs))\n",
    "print(\"Pattern Length: \" + str(MIN_TITLE_LENGTH))\n",
    "print(\"Number of patterns: \" + str(n_patterns))"
   ]
  },
  {
   "cell_type": "code",
   "execution_count": 8,
   "metadata": {},
   "outputs": [],
   "source": [
    "X = np.reshape(dataX, (n_patterns, MIN_TITLE_LENGTH, 1))\n",
    "X = X/float(n_vocabs)\n",
    "y = np.eye(len(chars))[dataY]"
   ]
  },
  {
   "cell_type": "code",
   "execution_count": 9,
   "metadata": {},
   "outputs": [],
   "source": [
    "model = Sequential()\n",
    "model.add(CuDNNLSTM(256, input_shape=(X.shape[1], X.shape[2]), return_sequences=True))\n",
    "model.add(Dropout(0.2))\n",
    "model.add(CuDNNLSTM(256))\n",
    "model.add(Dropout(0.2))\n",
    "model.add(Dense(y.shape[1], activation='softmax'))\n",
    "model.compile(loss='categorical_crossentropy', optimizer='adam')"
   ]
  },
  {
   "cell_type": "code",
   "execution_count": 10,
   "metadata": {},
   "outputs": [
    {
     "name": "stdout",
     "output_type": "stream",
     "text": [
      "Epoch 1/20\n",
      "93152/93152 [==============================] - 21s 221us/step - loss: 3.1812\n",
      "Epoch 2/20\n",
      "93152/93152 [==============================] - 16s 172us/step - loss: 2.9462\n",
      "Epoch 3/20\n",
      "93152/93152 [==============================] - 15s 166us/step - loss: 2.6236\n",
      "Epoch 4/20\n",
      "93152/93152 [==============================] - 15s 165us/step - loss: 2.1517\n",
      "Epoch 5/20\n",
      "93152/93152 [==============================] - 17s 186us/step - loss: 1.5998\n",
      "Epoch 6/20\n",
      "93152/93152 [==============================] - 16s 169us/step - loss: 1.0788\n",
      "Epoch 7/20\n",
      "93152/93152 [==============================] - 16s 168us/step - loss: 0.7049\n",
      "Epoch 8/20\n",
      "93152/93152 [==============================] - 16s 168us/step - loss: 0.4700\n",
      "Epoch 9/20\n",
      "93152/93152 [==============================] - 16s 167us/step - loss: 0.3443\n",
      "Epoch 10/20\n",
      "93152/93152 [==============================] - 16s 168us/step - loss: 0.2694\n",
      "Epoch 11/20\n",
      "93152/93152 [==============================] - 15s 166us/step - loss: 0.2307\n",
      "Epoch 12/20\n",
      "93152/93152 [==============================] - 16s 172us/step - loss: 0.2009\n",
      "Epoch 13/20\n",
      "93152/93152 [==============================] - 16s 169us/step - loss: 0.1808\n",
      "Epoch 14/20\n",
      "93152/93152 [==============================] - 16s 167us/step - loss: 0.1630\n",
      "Epoch 15/20\n",
      "93152/93152 [==============================] - 16s 166us/step - loss: 0.1524\n",
      "Epoch 16/20\n",
      "93152/93152 [==============================] - 16s 167us/step - loss: 0.1462\n",
      "Epoch 17/20\n",
      "93152/93152 [==============================] - 16s 167us/step - loss: 0.1367\n",
      "Epoch 18/20\n",
      "93152/93152 [==============================] - 16s 167us/step - loss: 0.1233\n",
      "Epoch 19/20\n",
      "93152/93152 [==============================] - 16s 167us/step - loss: 0.1239\n",
      "Epoch 20/20\n",
      "93152/93152 [==============================] - 16s 167us/step - loss: 0.1155\n"
     ]
    },
    {
     "data": {
      "text/plain": [
       "<tensorflow.python.keras.callbacks.History at 0x1b042b00>"
      ]
     },
     "execution_count": 10,
     "metadata": {},
     "output_type": "execute_result"
    }
   ],
   "source": [
    "model.fit(X, y, epochs=EPOCHS, batch_size=BATCH_SIZE)"
   ]
  },
  {
   "cell_type": "code",
   "execution_count": 41,
   "metadata": {},
   "outputs": [
    {
     "name": "stdout",
     "output_type": "stream",
     "text": [
      "IS FAKE?&QUOT; HYPNOTIST STUNS TEDX CROWDLSNE DIGNNN PEPSRWS BRMML PAMKARENE [|35 MINUTES ARSTRALIANEN TOAAKER \n",
      "ON&#39;S &QUOT;ICII TOIEE) PONK. BY TOU HFRYBR? DAND  OURFN VOURERE | REPPA PIG&#39;S FUN TOY DOLLHOUSE!#39;  C\n",
      "MOST HORRIFYINGLY MYSTERIOUS LAKES IN THE WORLD -OFFICIAL VIDEO) FT. ELLIE GOULDINGDS | 35 MINUTES ARSTRALIANEN\n",
      " INTERVENES!!! 06-10-188888888888 AHAIN VCDEEIAL | 45 MINUTESSALES MENAOIE MO EELINYS | T-1000 &AMP; YOUNG T-80\n",
      "TOPS HIM BUT WHAT HE DOES AFTER... WOW! | THE X FACTOR UK 2018 GAR-OLDSS) CO NEE BALELYNNECR OOORS | BILMBOARDD\n",
      "ROM CHAD AND STEVE |IEII SOIPISS HLR KIDSS|   IEMMCOA SOAIOORS NLCK THOTIENS BOYANA... VR WHE WOURDE VIDEO]  MO\n",
      "FFICIAL MUSIC VIDEO) FT. ELLIE GOULDINGDS | 35 MINUTES ARSTRALIANEN TOAAKER + LIVE CHAT UR RISE FOED ROE NEWDES\n",
      "D TO THE MET GALA LOOK | VOGUERAMISDDEOC |IAS WIIL CHANGE YOUR LIFE | RICK RIGSBY|TEPIEGATEDTP FORNEDYNNGEOGSS|\n",
      "2019 (WEEKLY #16)9) - PARAMOUNT PICTURES - WTREE EIT THAL | IISEEEAYCAME TOAEOER # FIKOEY &AMP; KHALID  EASTSID\n",
      "PECIAL PEPPA PIG OFFICIAL | 4KMII &OMFIC ANTNIN MIDECH AVERR T JIKE PH S MAFA TOUR LONEY LIKE THE RICH | TOM FE\n"
     ]
    }
   ],
   "source": [
    "for _ in range(NUMBER_OF_TITLES):\n",
    "    start = np.random.randint(0, len(dataX)-1)\n",
    "    patt = dataX[start]\n",
    "    text = \"\"\n",
    "    for value in patt:\n",
    "        text += int_to_char[value] \n",
    "\n",
    "    for i in range(100):\n",
    "        xx = np.reshape(patt, (1, len(patt), 1))\n",
    "        xx = xx / float(n_vocabs)\n",
    "        prediction = model.predict(xx, verbose=0)\n",
    "        index = np.argmax(prediction)\n",
    "        text += int_to_char[index]\n",
    "        patt.append(index)\n",
    "        patt = patt[1:len(patt)]\n",
    "\n",
    "    print(text)"
   ]
  }
 ],
 "metadata": {
  "kernelspec": {
   "display_name": "Python 3",
   "language": "python",
   "name": "python3"
  },
  "language_info": {
   "codemirror_mode": {
    "name": "ipython",
    "version": 3
   },
   "file_extension": ".py",
   "mimetype": "text/x-python",
   "name": "python",
   "nbconvert_exporter": "python",
   "pygments_lexer": "ipython3",
   "version": "3.6.8"
  }
 },
 "nbformat": 4,
 "nbformat_minor": 2
}
