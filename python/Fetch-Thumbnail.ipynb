{
 "cells": [
  {
   "cell_type": "code",
   "execution_count": 1,
   "metadata": {},
   "outputs": [],
   "source": [
    "import requests\n",
    "import re\n",
    "import pandas as pd"
   ]
  },
  {
   "cell_type": "code",
   "execution_count": 2,
   "metadata": {},
   "outputs": [],
   "source": [
    "FILE_LOCATION = \"https://raw.githubusercontent.com/alexandre-lavoie/youtube-bot/master/data/CA_viewCount.csv\"\n",
    "SAVE_LOCATION = \"C:/Thumbnails/\"\n",
    "RESOULTION = \"default\""
   ]
  },
  {
   "cell_type": "code",
   "execution_count": 3,
   "metadata": {},
   "outputs": [],
   "source": [
    "video_database = pd.read_csv(FILE_LOCATION)"
   ]
  },
  {
   "cell_type": "code",
   "execution_count": 5,
   "metadata": {
    "scrolled": true
   },
   "outputs": [],
   "source": [
    "for thumbnail in video_database[\"thumbnails\"]:\n",
    "    url = eval(thumbnail)[RESOULTION][\"url\"]\n",
    "    result = requests.get(url, stream=True)\n",
    "    if result.status_code == 200:\n",
    "        f = open(SAVE_LOCATION + re.search(\"vi\\/(.*?)\\/\", url, re.IGNORECASE).group(1) + \".jpg\", 'wb')\n",
    "        f.write(result.raw.read())\n",
    "        f.close()"
   ]
  },
  {
   "cell_type": "code",
   "execution_count": null,
   "metadata": {},
   "outputs": [],
   "source": []
  }
 ],
 "metadata": {
  "kernelspec": {
   "display_name": "Python 3",
   "language": "python",
   "name": "python3"
  },
  "language_info": {
   "codemirror_mode": {
    "name": "ipython",
    "version": 3
   },
   "file_extension": ".py",
   "mimetype": "text/x-python",
   "name": "python",
   "nbconvert_exporter": "python",
   "pygments_lexer": "ipython3",
   "version": "3.6.8"
  }
 },
 "nbformat": 4,
 "nbformat_minor": 2
}
