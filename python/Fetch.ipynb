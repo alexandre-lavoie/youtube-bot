{
 "cells": [
  {
   "cell_type": "markdown",
   "metadata": {},
   "source": [
    "# Fetch.ipynb\n",
    "## Fetches YouTube Most Viewed Videos in a Region and Saves to a CSV.\n",
    "### ! Don't forget to put your YouTube Data API Key in API_KEY !"
   ]
  },
  {
   "cell_type": "markdown",
   "metadata": {},
   "source": [
    "### Libraries"
   ]
  },
  {
   "cell_type": "code",
   "execution_count": 97,
   "metadata": {},
   "outputs": [],
   "source": [
    "import urllib.request, json # To fetch YouTube Data Json.\n",
    "import pandas as pd # To make the CSV file."
   ]
  },
  {
   "cell_type": "markdown",
   "metadata": {},
   "source": [
    "### Global Variables"
   ]
  },
  {
   "cell_type": "code",
   "execution_count": 200,
   "metadata": {},
   "outputs": [],
   "source": [
    "NUMBER_OF_VIDEOS_PER_PAGE = \"50\" # Number of videos per page.\n",
    "NUMBER_OF_PAGES = 8 # Number of pages with NUMBER_OF_VIDEOS_PER_PAGE. (Over than 8 usually bugs the YouTube API)\n",
    "REGION = \"US\" # Region to get Most View Videos.\n",
    "API_KEY = \"****\" # Enter YOUR API Key Here.\n",
    "EXPORT_PATH = r'C:\\Youtube\\us_viewcount.csv' # Path to save CSV file."
   ]
  },
  {
   "cell_type": "markdown",
   "metadata": {},
   "source": [
    "###  ! Do not run more than once if you want to keep old JSON requests !"
   ]
  },
  {
   "cell_type": "code",
   "execution_count": 191,
   "metadata": {},
   "outputs": [],
   "source": [
    "data = [] # Contains JSON requests."
   ]
  },
  {
   "cell_type": "markdown",
   "metadata": {},
   "source": [
    "### Fetches Videos using YouTube Data API (Run this multiple times to get many pages)"
   ]
  },
  {
   "cell_type": "code",
   "execution_count": 218,
   "metadata": {},
   "outputs": [],
   "source": [
    "for i in range(NUMBER_OF_PAGES):\n",
    "    if not data:\n",
    "        with urllib.request.urlopen(\"https://www.googleapis.com/youtube/v3/search?part=snippet&order=viewCount&type=video&regionCode=\" + REGION + \"&maxResults=\" + NUMBER_OF_VIDEOS_PER_PAGE + \"&key=\" + API_KEY) as url:\n",
    "            data.append(json.loads(url.read().decode()))\n",
    "    else:\n",
    "        with urllib.request.urlopen(\"https://www.googleapis.com/youtube/v3/search?part=snippet&order=viewCount&type=video&pageToken=\" + data[i-1][\"nextPageToken\"] + \"&chart=mostPopular&regionCode=\" + REGION + \"&maxResults=\" + NUMBER_OF_VIDEOS_PER_PAGE + \"&key=\" + API_KEY) as url:\n",
    "            data.append(json.loads(url.read().decode()))"
   ]
  },
  {
   "cell_type": "markdown",
   "metadata": {},
   "source": [
    "### Cleans up the JSON Data and Make a Pandas DataFrame"
   ]
  },
  {
   "cell_type": "code",
   "execution_count": 222,
   "metadata": {},
   "outputs": [],
   "source": [
    "video_dictionary = {'id':[], 'title': [], 'description': [], 'thumbnails': []}\n",
    "\n",
    "for pages in data:\n",
    "    for video in pages[\"items\"]:\n",
    "        video_dictionary[\"id\"].append(video[\"id\"][\"videoId\"])\n",
    "        video_dictionary[\"title\"].append(video[\"snippet\"][\"title\"])\n",
    "        video_dictionary[\"thumbnails\"].append(video[\"snippet\"][\"thumbnails\"])\n",
    "        video_dictionary[\"description\"].append(video[\"snippet\"][\"description\"])\n",
    "        \n",
    "video_database = pd.DataFrame(video_dictionary)"
   ]
  },
  {
   "cell_type": "markdown",
   "metadata": {},
   "source": [
    "### Write Pandas DataFrame to CSV File"
   ]
  },
  {
   "cell_type": "code",
   "execution_count": 221,
   "metadata": {},
   "outputs": [],
   "source": [
    "video_database.to_csv(EXPORT_PATH, index = None, header=True)"
   ]
  }
 ],
 "metadata": {
  "kernelspec": {
   "display_name": "Python 3",
   "language": "python",
   "name": "python3"
  },
  "language_info": {
   "codemirror_mode": {
    "name": "ipython",
    "version": 3
   },
   "file_extension": ".py",
   "mimetype": "text/x-python",
   "name": "python",
   "nbconvert_exporter": "python",
   "pygments_lexer": "ipython3",
   "version": "3.6.8"
  }
 },
 "nbformat": 4,
 "nbformat_minor": 2
}
