{
 "cells": [
  {
   "cell_type": "code",
   "execution_count": null,
   "metadata": {},
   "outputs": [],
   "source": [
    "# LSTM CODE BY https://machinelearningmastery.com/text-generation-lstm-recurrent-neural-networks-python-keras/"
   ]
  },
  {
   "cell_type": "code",
   "execution_count": 1,
   "metadata": {},
   "outputs": [],
   "source": [
    "import pandas as pd\n",
    "import numpy as np\n",
    "from tensorflow.keras.models import Model, Sequential\n",
    "from tensorflow.keras.layers import Dense, Dropout, CuDNNLSTM"
   ]
  },
  {
   "cell_type": "code",
   "execution_count": 2,
   "metadata": {},
   "outputs": [],
   "source": [
    "FILE_LOCATION = \"https://raw.githubusercontent.com/alexandre-lavoie/youtube-bot/master/data/US_viewCount.csv\"\n",
    "MIN_TITLE_LENGTH = 31\n",
    "NUMBER_OF_DESCRIPTIONS = 10\n",
    "DESCRIPTION_LENGTH = 500\n",
    "EPOCHS = 20\n",
    "BATCH_SIZE = 128"
   ]
  },
  {
   "cell_type": "code",
   "execution_count": 3,
   "metadata": {},
   "outputs": [],
   "source": [
    "video_database = pd.read_csv(FILE_LOCATION)"
   ]
  },
  {
   "cell_type": "code",
   "execution_count": 4,
   "metadata": {},
   "outputs": [],
   "source": [
    "cleanup_database = video_database.replace('[^\\x00-\\x7F]+','',regex=True)\n",
    "cleanup_database = cleanup_database.replace('(http|https)://([\\w_-]+(?:(?:\\.[\\w_-]+)+))([\\w.,@?^=%&:/~+#-]*[\\w@?^=%&/~+#-])?', 'URL', regex=True)\n",
    "cleanup_database = cleanup_database.replace(' \\.\\.\\.', '', regex=True)\n",
    "description_database = [description for description in cleanup_database[\"description\"] if isinstance(description,str)]"
   ]
  },
  {
   "cell_type": "code",
   "execution_count": 5,
   "metadata": {},
   "outputs": [],
   "source": [
    "chars = [chr(i) for i in range(ord('!'), ord('Z')+1)]\n",
    "chars.extend(['|', ' ', '[', ']', '_', '~'])\n",
    "char_to_int = dict((c, i) for i, c in enumerate(chars))\n",
    "int_to_char = dict((i, c) for i, c in enumerate(chars))\n",
    "n_vocabs = len(chars)"
   ]
  },
  {
   "cell_type": "code",
   "execution_count": 6,
   "metadata": {},
   "outputs": [],
   "source": [
    "description_int = []\n",
    "for description in description_database:\n",
    "    description_int.append ([char_to_int[letter] for letter in description.upper()])"
   ]
  },
  {
   "cell_type": "code",
   "execution_count": 7,
   "metadata": {
    "scrolled": false
   },
   "outputs": [],
   "source": [
    "dataX = []\n",
    "dataY = []\n",
    "\n",
    "for description in description_int:\n",
    "    for i in range(0, len(description)-MIN_TITLE_LENGTH):\n",
    "        dataX.append(description[i:(i+MIN_TITLE_LENGTH)])\n",
    "        dataY.append(description[i+MIN_TITLE_LENGTH])\n",
    "        \n",
    "n_patterns = len(dataX)"
   ]
  },
  {
   "cell_type": "code",
   "execution_count": 8,
   "metadata": {
    "scrolled": true
   },
   "outputs": [
    {
     "name": "stdout",
     "output_type": "stream",
     "text": [
      "Vocab Length: 64\n",
      "Pattern Length: 31\n",
      "Number of patterns: 198929\n"
     ]
    }
   ],
   "source": [
    "print(\"Vocab Length: \" + str(n_vocabs))\n",
    "print(\"Pattern Length: \" + str(MIN_TITLE_LENGTH))\n",
    "print(\"Number of patterns: \" + str(n_patterns))"
   ]
  },
  {
   "cell_type": "code",
   "execution_count": 9,
   "metadata": {},
   "outputs": [],
   "source": [
    "X = np.reshape(dataX, (n_patterns, MIN_TITLE_LENGTH, 1))\n",
    "X = X/float(n_vocabs)\n",
    "y = np.eye(len(chars))[dataY]"
   ]
  },
  {
   "cell_type": "code",
   "execution_count": 10,
   "metadata": {},
   "outputs": [],
   "source": [
    "model = Sequential()\n",
    "model.add(CuDNNLSTM(256, input_shape=(X.shape[1], X.shape[2]), return_sequences=True))\n",
    "model.add(Dropout(0.2))\n",
    "model.add(CuDNNLSTM(256))\n",
    "model.add(Dropout(0.2))\n",
    "model.add(Dense(y.shape[1], activation='softmax'))\n",
    "model.compile(loss='categorical_crossentropy', optimizer='adam')"
   ]
  },
  {
   "cell_type": "code",
   "execution_count": 11,
   "metadata": {},
   "outputs": [
    {
     "name": "stdout",
     "output_type": "stream",
     "text": [
      "Epoch 1/10\n",
      "198929/198929 [==============================] - 48s 241us/step - loss: 3.0060\n",
      "Epoch 2/10\n",
      "198929/198929 [==============================] - 44s 221us/step - loss: 2.7278\n",
      "Epoch 3/10\n",
      "198929/198929 [==============================] - 45s 225us/step - loss: 2.3530\n",
      "Epoch 4/10\n",
      "198929/198929 [==============================] - 45s 228us/step - loss: 1.8286\n",
      "Epoch 5/10\n",
      "198929/198929 [==============================] - 46s 229us/step - loss: 1.3258\n",
      "Epoch 6/10\n",
      "198929/198929 [==============================] - 46s 229us/step - loss: 0.9409\n",
      "Epoch 7/10\n",
      "198929/198929 [==============================] - 46s 230us/step - loss: 0.6868\n",
      "Epoch 8/10\n",
      "198929/198929 [==============================] - 46s 230us/step - loss: 0.5262\n",
      "Epoch 9/10\n",
      "198929/198929 [==============================] - 46s 231us/step - loss: 0.4198\n",
      "Epoch 10/10\n",
      "198929/198929 [==============================] - 46s 231us/step - loss: 0.3510\n"
     ]
    },
    {
     "data": {
      "text/plain": [
       "<tensorflow.python.keras.callbacks.History at 0x1c1166d8>"
      ]
     },
     "execution_count": 11,
     "metadata": {},
     "output_type": "execute_result"
    }
   ],
   "source": [
    "model.fit(X, y, epochs=EPOCHS, batch_size=BATCH_SIZE)"
   ]
  },
  {
   "cell_type": "code",
   "execution_count": 12,
   "metadata": {},
   "outputs": [
    {
     "name": "stdout",
     "output_type": "stream",
     "text": [
      " 2019 | SUBSCRIBE  URL | JASON SUDEIKIS MOVIE TRAILER | RELEASE: 16 AUG 2019 | MORE - HO NOON BYHALS INOS: PRL INST LRONEC @PD EATE ANM AND HERED LRLD CARS RREMELELE, THENN LIKKA PIN OFFICIAL  TUBSCRIBE FOR MORE VIDEOS: URL #PEPPA #PEPPAPIGGIEEEEEEEBB.BOMMU MRODB VRLES BROE SNE ERAZIT FOEANEEDST, INOMOUAN, (2) PINK PONAHAR -MEEE OARIR\" DRTNOO TT SSEPI? PR LEFES NESEH AUDANIBL ANB SQIDLE TIT INR HALOE TO TEE TFINES EOR TEE LATSR. IN WHE SALKES  OR DENLNETS ON AALKETEE CIMMAT OOSA PRLDUCE CONMA IOSEL,WLEARNNENY ANEUSEFEG (VAVB \n",
      "S HEATER BREAKS, PROMPTING BIG NOSE TO ATTEMPT TO STEAL PINK PANTHER'S HEATER. (2) A PINKER TOMORROWOTOSOME INON THE OAWTRETE OOOTINS, CNONE STACLEL SADUNE TEAKE, TAECHONA THE AILUELSE PIE ALD TNANE SF HLALIT LISED UALKN TETT ES WIT AIC TT AACK GURL THE OATTEE TYOE TURECMED LO WHA  AREZSO GET PHEAREDLL, THEN TOIN AMAZINLLLA PIATES B SESTLES IN SPATEH AVESIABLE OU IT BACK TETHON TO CIL FTIRNTATTES A DOLM ARD OUBSPIME AOD COGLNEAN SI HU TEE ALAZESS HOL SAINNED HOARE  OU SONER ED VIR LASTER POASCRILE IN COAMITHOS AND SU INS THAL\n",
      "LBUM ON ITUNES NOW:URL MUSIC VIDEO BY EMINEMEST A B PIAKEE CERONENS IN A DOREET - A TON LUNIC VINES) TACTNONG THA LESK ANON OEEINTAD BY CHCKNE THE PEFECIAL THAIO LOWSIN TOOR. BN TEE SPAVE OF AUS AUBYTOUEE LOOA PARPENS OF CORRALAG HIR AACI TTASCRIBE MO CMA SENEN AOAPS AND LACES OO ALD INRER: BRLLE ALP ATYES ATD TOU  IALO. SUBSCRIBE TO THE TEDX CHANNEL: URL IN THE SPIRIT OF IDEAS WORTH SPREADING, TEDX IS A PROGRAM OF LOCAL, SELF-ORGANIZED EVENTSINSS BROST TTMRL A IOGB  IU EATTED THE MIST EALE OF WHE IOASE SEKES. THECT MEMK: URL\n",
      "EEN REBUILT FROM ZERO. DOWNLOAD THE FREE SLIDES PRESENTE HIODD VILNOFRN. THE FILIECTER SIBOO MO SOE SPONITED CY RACE IORE THATESABLS. THE PINK PIPPHER ALLL THE SIOELE TOATEMALESEVED SNISIAR UIEEOS A TOODY LIKE TO THE TEME OF SHE MMAIER LIKE A TRADE TRU SOOEUYED A AABY ELDPHANT FNLA END EOIILD TOMERPES: CNINK, AOPPIEA ITNSEDE IY COCINE TOMES ERP WOU FALONS. THE PINK PESTHNAT WO HE AR TTENLL TIDIOE EODMEN TIMES UU LAME  HER OO TAG NARER BOR IN SO OUINAMIEG TEDXSIS FOD MRSELC SIAR WALKON. BLTCHIAT SACON ERTM TTETERIBE TO BDF MAR\n",
      "CLEARING TREES! URL --~-- OK, SO, WOW, THIS ONE IS REALLY CRAZY! FNDELEEL AWAIIA CIDEN TOE SEEWNEGE EY NOCE TO BEPPERR A TOA LOSTIN TOO SPOTIFY: URL APPFE OT ITPONOTTI TH SOOTIFY: URL ASECK TERS AND IN' ENGALIE TO STOREFE FN INEATINN ON CND INCANIR. UHE COENE ALSSER TIT ANE MOREH AND LAAALIOD SO THE TU THOK THE MAMEE TOUR VILEOS OO THE WARES LORE AND TO WATCH,LIKE,COMMENT, HER ON ILG MAAR PEAROE HONM SAICHTHUSHIN, BNECH, OAMCRINE THKK, ALACK OER: URL ALAZON THER OAAYERE HN HACTE NEKEH PITEH AVAILABLE. OUIIKRIS HIDEB FAME! TOM\n",
      "AT ITUNES: URL AMAZON: URL GOOGLE PLAY: URL APAZONST IELSION OF CARS MIEES CATERSOUSEOME MNE- REWERIBE HIR MARS AND SOIERED THANOM AND ANG LISE SHTER TFE MATTERS OE CNA CNT LO SIIEOS MINE. UASCH LHRA AND TEIS WILT OAMAS BORM MN THE PATSE! BLA NNIEC HESE, PAMKEO ALSEMIN AND SEA  OU FIR THATE AME YOU LNKE THES PASTHRS IO THE LNSTSERT ASE TAFIN HOR TATCI TIE FIAMTE S ATOERR ARLF THE FOASY OATER BUE TEEEHS LOR HLPFRESION |EREE SO GELP THEER HONMINIS TASCHN SATCH KAIAS CETER OF WOUR THIN BMAZING COMPILATION OF HAIR TRANSFORMATIONS\n",
      "FFICIAL  SUBSCRIBE FOR MORE VIDEOS: URL #PEPPA #PEPPAPIGGIEEEEEEEBB.BOMMU MRODB VRLES BROE SNE ERAZIT FOEANEEDST, INOMOUAN, (2) PINK PONAHAR -MEEE OARIR\" DRTNOO TT SSEPI? PR LEFES NESEH AUDANIBL ANB SQIDLE TIT INR HALOE TO TEE TFINES EOR TEE LATSR. IN WHE SALKES  OR DENLNETS ON AALKETEE CIMMAT OOSA PRLDUCE CONMA IOSEL,WLEARNNENY ANEUSEFEG (VAVB LLREOA IT CCME TO THAT OR THE TALE OF YHET WOT AATT OF YOU LILE THESN LISTH PIDIESAL MIVSIN TO GIST OARINGT FACO THI WSTCL, ( ( POP HALT PR COXWER COOEES COOA CND ELTSIO MO THE CLASTED\n",
      "IG OFFICIAL  SUBSCRIBE FOR MORE VIDEOS: URL #PEPPA #PEPPAPIGGIEEEEEEEBB.BOMMU MRODB VRLES BROE SNE ERAZIT FOEANEEDST, INOMOUAN, (2) PINK PONAHAR -MEEE OARIR\" DRTNOO TT SSEPI? PR LEFES NESEH AUDANIBL ANB SQIDLE TIT INR HALOE TO TEE TFINES EOR TEE LATSR. IN WHE SALKES  OR DENLNETS ON AALKETEE CIMMAT OOSA PRLDUCE CONMA IOSEL,WLEARNNENY ANEUSEFEG (VAVB LLREOA IT CCME TO THAT OR THE TALE OF YHET WOT AATT OF YOU LILE THESN LISTH PIDIESAL MIVSIN TO GIST OARINGT FACO THI WSTCL, ( ( POP HALT PR COXWER COOEES COOA CND ELTSIO MO THE CLA\n",
      " THE SAME TIME. HERE IS A COLLECTION OF LIFE'S KES ST THEWVAME TH THA WORLD'S FORECT - (U2 MOVE UOREARED BEDENE FURIEN - SEE PINT PEALET IL TOE CLAS SFE NOSS SASUEREL. IN THIS PRESCHEO ALDPIALI & PUASKLOS ! AID MASSONE LILL. PROMINIGGES, SJENK YOU SOOMEH OO ADAI TO THE VERE TO AEA TEESE AUE TEIELID BUERID AID SAA E SICINID BRERY, SRA ERINE TPIDE HDKE & SHA CONS CR COAATIC - URL TWITTES OF IDFAS HOEN LN LET WAS WOU AAVO. IN EVELTITE CNN BACLUT. IRRNLEAD SNAM: URL GOLLO\" PRLNSWISG AND NOOE THATE OFKE A SASTY MEAL. SUBSCRIBE TO \n",
      "RE INFO!  CLICK BELOW FOR MORE LINKS! ILAS WIATES AN NNEER FON THE PERUREL OFW WOL FIR THES. ASE MO'S TIAT YOU DOR THORS  IL LASE A TOADY RITE A TOA TEDENTLE COIARE DEMEST OE ONRERA AEREREOAENEY NIKE AND SEEER OIWTHE TOOD MAMPAN TO BE ATE THE GOARES COOM AND LEIANIL.TIR THIT WIDLO OO MUETITTED BV RACE AO ARENINETT AND TU RHEMYEVENGM BIELINA IU A C TECAN CORNERE TPA CHANELLE, TOE LILGHTAD LYACMIVE HERES OE SATEH TEM WIIEL HOR PARSINN OO WII LLS 10000 (BIILE THE BILU  RUL SHAIA - AVD MART OEGO' ORIAMAN SHAMO) BNPMENAS/ A TNANE \n"
     ]
    }
   ],
   "source": [
    "for _ in range(NUMBER_OF_DESCRIPTIONS):\n",
    "    start = np.random.randint(0, len(dataX)-1)\n",
    "    patt = dataX[start]\n",
    "    text = \"\"\n",
    "    for value in patt:\n",
    "        text += int_to_char[value]\n",
    "\n",
    "    for i in range(DESCRIPTION_LENGTH):\n",
    "        xx = np.reshape(patt, (1, len(patt), 1))\n",
    "        xx = xx / float(n_vocabs)\n",
    "        prediction = model.predict(xx, verbose=0)\n",
    "        index = np.argmax(prediction)\n",
    "        text += int_to_char[index]\n",
    "        patt.append(index)\n",
    "        patt = patt[1:len(patt)]\n",
    "\n",
    "    print(text)"
   ]
  }
 ],
 "metadata": {
  "kernelspec": {
   "display_name": "Python 3",
   "language": "python",
   "name": "python3"
  },
  "language_info": {
   "codemirror_mode": {
    "name": "ipython",
    "version": 3
   },
   "file_extension": ".py",
   "mimetype": "text/x-python",
   "name": "python",
   "nbconvert_exporter": "python",
   "pygments_lexer": "ipython3",
   "version": "3.6.8"
  }
 },
 "nbformat": 4,
 "nbformat_minor": 2
}
